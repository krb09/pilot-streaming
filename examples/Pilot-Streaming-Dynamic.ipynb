{
 "cells": [
  {
   "cell_type": "markdown",
   "metadata": {},
   "source": [
    "# Getting Started with Pilot-Streaming on Wrangler\n",
    "\n",
    "In the first step we need to import all required packages and modules into the Python Path"
   ]
  },
  {
   "cell_type": "code",
   "execution_count": null,
   "metadata": {
    "ExecuteTime": {
     "end_time": "2017-12-28T17:59:21.386383Z",
     "start_time": "2017-12-28T17:59:21.364643Z"
    },
    "collapsed": true
   },
   "outputs": [],
   "source": [
    "# System Libraries\n",
    "import sys, os\n",
    "sys.path.append(\"..\")\n",
    "import pandas as pd\n",
    "\n",
    "## logging\n",
    "import logging\n",
    "logging.basicConfig(level=logging.DEBUG)\n",
    "logging.getLogger().setLevel(logging.ERROR)\n",
    "logging.getLogger(\"py4j\").setLevel(logging.ERROR)\n",
    " \n",
    "\n",
    "# Pilot-Streaming\n",
    "import pilot.streaming\n",
    "sys.modules['pilot.streaming']"
   ]
  },
  {
   "cell_type": "markdown",
   "metadata": {},
   "source": [
    "The Pilot-Compute Description is a simple key/value style description of the cluster environment that should be started. Alternatively, the commandline tool delivered with this package can be used:\n",
    "\n",
    "     pilot-streaming --resource=slurm://localhost --queue=normal --walltime=59 --number_cores=48 --framework spark "
   ]
  },
  {
   "cell_type": "markdown",
   "metadata": {},
   "source": [
    "# 1. Spark\n",
    "\n",
    "## Start and Manage Pilots"
   ]
  },
  {
   "cell_type": "code",
   "execution_count": 3,
   "metadata": {
    "ExecuteTime": {
     "end_time": "2017-12-28T18:00:04.950564Z",
     "start_time": "2017-12-28T17:59:22.095228Z"
    },
    "run_control": {
     "frozen": false,
     "read_only": false
    }
   },
   "outputs": [],
   "source": [
    "### Required Spark configuration that needs to be provided before pyspark is imported and JVM started\n",
    "os.environ[\"SPARK_LOCAL_IP\"]='129.114.58.2' #must be done before pyspark is loaded\n",
    "import pyspark\n",
    "\n",
    "spark_pilot1_description = {\n",
    "    \"resource\":\"slurm://localhost\",\n",
    "    \"working_directory\": os.path.join('/work/01131/tg804093/wrangler/', \"work\"),\n",
    "    \"number_cores\": 48,\n",
    "    \"project\": \"TG-MCB090174\",\n",
    "    \"queue\": \"normal\",\n",
    "    \"walltime\": 59,\n",
    "    \"type\":\"spark\"\n",
    "}"
   ]
  },
  {
   "cell_type": "markdown",
   "metadata": {},
   "source": [
    "Start Spark Cluster and Wait for Startup Completion"
   ]
  },
  {
   "cell_type": "code",
   "execution_count": 4,
   "metadata": {},
   "outputs": [
    {
     "name": "stdout",
     "output_type": "stream",
     "text": [
      "**** Job: 59315 State : Pending\n",
      "Create Spark Context for URL: spark://129.114.58.136:7077\n",
      "Create Spark Context for URL: spark://129.114.58.136:7077\n",
      "CPU times: user 180 ms, sys: 89.1 ms, total: 269 ms\n",
      "Wall time: 23.3 s\n"
     ]
    }
   ],
   "source": [
    "%%time\n",
    "spark_pilot1 = pilot.streaming.PilotComputeService.create_pilot(spark_pilot1_description)\n",
    "spark_pilot1.wait()"
   ]
  },
  {
   "cell_type": "code",
   "execution_count": 5,
   "metadata": {},
   "outputs": [
    {
     "data": {
      "text/plain": [
       "{'master_url': 'spark://129.114.58.136:7077',\n",
       " 'spark_home': '/work/01131/tg804093/wrangler/work/spark-0de84fe6-f1b2-11e7-a551-549f35083c1c/spark-2.2.1-bin-hadoop2.7',\n",
       " 'web_ui_url': 'http://129.114.58.136:8080'}"
      ]
     },
     "execution_count": 5,
     "metadata": {},
     "output_type": "execute_result"
    }
   ],
   "source": [
    "spark_pilot1.get_details()"
   ]
  },
  {
   "cell_type": "code",
   "execution_count": 6,
   "metadata": {
    "ExecuteTime": {
     "end_time": "2017-12-28T17:51:55.430862Z",
     "start_time": "2017-12-28T17:51:55.093479Z"
    }
   },
   "outputs": [
    {
     "name": "stdout",
     "output_type": "stream",
     "text": [
      "Create Spark Context for URL: spark://129.114.58.136:7077\n"
     ]
    }
   ],
   "source": [
    "sc = spark_pilot1.get_context()"
   ]
  },
  {
   "cell_type": "code",
   "execution_count": 7,
   "metadata": {},
   "outputs": [
    {
     "data": {
      "text/plain": [
       "[1, 4, 9]"
      ]
     },
     "execution_count": 7,
     "metadata": {},
     "output_type": "execute_result"
    }
   ],
   "source": [
    "rdd = sc.parallelize([1,2,3])\n",
    "rdd.map(lambda a: a*a).collect()"
   ]
  },
  {
   "cell_type": "markdown",
   "metadata": {},
   "source": [
    "## Extend Spark Cluster 1 with additional resources\n",
    "\n",
    "To extend a Spark cluster simple start another Pilot referencing the other Pilot-Job ID in the Pilot Compute Description."
   ]
  },
  {
   "cell_type": "code",
   "execution_count": 8,
   "metadata": {},
   "outputs": [],
   "source": [
    "spark_pilot1_jobid = spark_pilot1.get_id()\n",
    "\n",
    "spark_pilot_description2 = {\n",
    "    \"resource\":\"slurm://localhost\",\n",
    "    \"working_directory\": os.path.join('/work/01131/tg804093/wrangler/', \"work\"),\n",
    "    \"number_cores\": 48,\n",
    "    \"project\": \"TG-MCB090174\",\n",
    "    \"queue\": \"normal\",\n",
    "    \"walltime\": 59,\n",
    "    \"type\":\"spark\",\n",
    "    \"parent\": spark_pilot1_jobid\n",
    "}"
   ]
  },
  {
   "cell_type": "code",
   "execution_count": 9,
   "metadata": {},
   "outputs": [
    {
     "name": "stdout",
     "output_type": "stream",
     "text": [
      "**** Job: 59316 State : Pending\n",
      "Create Spark Context for URL: spark://129.114.58.136:7077\n",
      "Create Spark Context for URL: spark://129.114.58.136:7077\n",
      "CPU times: user 89.5 ms, sys: 51.6 ms, total: 141 ms\n",
      "Wall time: 16.2 s\n"
     ]
    }
   ],
   "source": [
    "%%time\n",
    "spark_pilot2 = pilot.streaming.PilotComputeService.create_pilot(spark_pilot_description2)\n",
    "spark_pilot2.wait()"
   ]
  },
  {
   "cell_type": "markdown",
   "metadata": {},
   "source": [
    "**Note:** Connection Spark Cluster are the same as the parent Pilot Job"
   ]
  },
  {
   "cell_type": "code",
   "execution_count": 10,
   "metadata": {},
   "outputs": [
    {
     "data": {
      "text/plain": [
       "{'master_url': 'spark://129.114.58.136:7077',\n",
       " 'spark_home': '/work/01131/tg804093/wrangler/work/spark-1ed095e8-f1b2-11e7-a551-549f35083c1c/spark-2.2.1-bin-hadoop2.7',\n",
       " 'web_ui_url': 'http://129.114.58.136:8080'}"
      ]
     },
     "execution_count": 10,
     "metadata": {},
     "output_type": "execute_result"
    }
   ],
   "source": [
    "spark_pilot2.get_details()"
   ]
  },
  {
   "cell_type": "markdown",
   "metadata": {},
   "source": [
    "Stop both Pilots"
   ]
  },
  {
   "cell_type": "code",
   "execution_count": 11,
   "metadata": {},
   "outputs": [],
   "source": [
    "spark_pilot1.cancel()\n",
    "spark_pilot2.cancel()"
   ]
  },
  {
   "cell_type": "markdown",
   "metadata": {},
   "source": [
    "# 2. Kafka"
   ]
  },
  {
   "cell_type": "code",
   "execution_count": 2,
   "metadata": {},
   "outputs": [],
   "source": [
    "kafka_pilot_description1 = {\n",
    "    \"resource\":\"slurm://localhost\",\n",
    "    \"working_directory\": os.path.join('/work/01131/tg804093/wrangler/', \"work\"),\n",
    "    \"number_cores\": 48,\n",
    "    \"project\": \"TG-MCB090174\",\n",
    "    \"queue\": \"normal\",\n",
    "    \"walltime\": 59,\n",
    "    \"type\":\"kafka\"\n",
    "}"
   ]
  },
  {
   "cell_type": "code",
   "execution_count": 3,
   "metadata": {},
   "outputs": [
    {
     "name": "stdout",
     "output_type": "stream",
     "text": [
      "**** Job: 59351 State : Pending\n",
      "look for configs in: /work/01131/tg804093/wrangler/work/kafka-1b9acffe-f1c3-11e7-9bc2-549f35083c1c/config\n",
      "['broker-0']\n",
      "Kafka Config: /work/01131/tg804093/wrangler/work/kafka-1b9acffe-f1c3-11e7-9bc2-549f35083c1c/config (Thu Jan  4 20:50:05 2018)\n",
      "{'zookeeper.connection.timeout.ms': '6000', 'broker.id': '0', 'listeners': 'PLAINTEXT://c251-133:9092', 'zookeeper.connect': 'c251-133:2181'}\n",
      "CPU times: user 194 ms, sys: 79.5 ms, total: 273 ms\n",
      "Wall time: 25.8 s\n"
     ]
    }
   ],
   "source": [
    "%%time\n",
    "kafka_pilot1 = pilot.streaming.PilotComputeService.create_pilot(kafka_pilot_description1)\n",
    "kafka_pilot1.wait()"
   ]
  },
  {
   "cell_type": "code",
   "execution_count": 4,
   "metadata": {},
   "outputs": [
    {
     "data": {
      "text/plain": [
       "{'details': {'broker.id': '0',\n",
       "  'listeners': 'PLAINTEXT://c251-133:9092',\n",
       "  'zookeeper.connect': 'c251-133:2181',\n",
       "  'zookeeper.connection.timeout.ms': '6000'},\n",
       " 'master_url': 'c251-133:2181'}"
      ]
     },
     "execution_count": 4,
     "metadata": {},
     "output_type": "execute_result"
    }
   ],
   "source": [
    "kafka_pilot1.get_details()"
   ]
  },
  {
   "cell_type": "markdown",
   "metadata": {},
   "source": [
    "## Extend Pilot"
   ]
  },
  {
   "cell_type": "code",
   "execution_count": 5,
   "metadata": {},
   "outputs": [],
   "source": [
    "kafka_pilot1_jobid = kafka_pilot1.get_id()\n",
    "\n",
    "kafka_pilot_description2 = {\n",
    "    \"resource\":\"slurm://localhost\",\n",
    "    \"working_directory\": os.path.join('/work/01131/tg804093/wrangler/', \"work\"),\n",
    "    \"number_cores\": 48,\n",
    "    \"project\": \"TG-MCB090174\",\n",
    "    \"queue\": \"normal\",\n",
    "    \"walltime\": 59,\n",
    "    \"type\":\"kafka\",\n",
    "    \"parent\": kafka_pilot1_jobid\n",
    "}"
   ]
  },
  {
   "cell_type": "code",
   "execution_count": 6,
   "metadata": {},
   "outputs": [
    {
     "name": "stdout",
     "output_type": "stream",
     "text": [
      "**** Job: 59352 State : Pending\n",
      "look for configs in: /work/01131/tg804093/wrangler/work/kafka-2b010166-f1c3-11e7-9bc2-549f35083c1c/config\n",
      "['broker-1']\n",
      "Kafka Config: /work/01131/tg804093/wrangler/work/kafka-2b010166-f1c3-11e7-9bc2-549f35083c1c/config (Thu Jan  4 20:50:20 2018)\n",
      "{'zookeeper.connection.timeout.ms': '6000', 'broker.id': '1', 'listeners': 'PLAINTEXT://c251-135:9092', 'zookeeper.connect': 'c251-133:2181'}\n",
      "CPU times: user 88.3 ms, sys: 35.9 ms, total: 124 ms\n",
      "Wall time: 18.8 s\n"
     ]
    }
   ],
   "source": [
    "%%time\n",
    "kafka_pilot2 = pilot.streaming.PilotComputeService.create_pilot(kafka_pilot_description2)\n",
    "kafka_pilot2.wait()"
   ]
  },
  {
   "cell_type": "code",
   "execution_count": 7,
   "metadata": {},
   "outputs": [
    {
     "data": {
      "text/plain": [
       "{'details': {'broker.id': '1',\n",
       "  'listeners': 'PLAINTEXT://c251-135:9092',\n",
       "  'zookeeper.connect': 'c251-133:2181',\n",
       "  'zookeeper.connection.timeout.ms': '6000'},\n",
       " 'master_url': 'c251-133:2181'}"
      ]
     },
     "execution_count": 7,
     "metadata": {},
     "output_type": "execute_result"
    }
   ],
   "source": [
    "kafka_pilot2.get_details()"
   ]
  },
  {
   "cell_type": "markdown",
   "metadata": {},
   "source": [
    "Check Brokers of Kafka Cluster"
   ]
  },
  {
   "cell_type": "code",
   "execution_count": 8,
   "metadata": {},
   "outputs": [
    {
     "data": {
      "text/plain": [
       "{0: <pykafka.broker.Broker at 0x2b438f3a1c50 (host=c251-133, port=9092, id=0)>}"
      ]
     },
     "execution_count": 8,
     "metadata": {},
     "output_type": "execute_result"
    }
   ],
   "source": [
    "import pykafka\n",
    "zkhost=kafka_pilot2.get_details()['master_url']\n",
    "client = pykafka.KafkaClient(zookeeper_hosts=zkhost)\n",
    "client.brokers"
   ]
  },
  {
   "cell_type": "markdown",
   "metadata": {},
   "source": [
    "## Cancel Pilots"
   ]
  },
  {
   "cell_type": "code",
   "execution_count": 9,
   "metadata": {},
   "outputs": [],
   "source": [
    "kafka_pilot1.cancel()\n",
    "kafka_pilot2.cancel()"
   ]
  },
  {
   "cell_type": "markdown",
   "metadata": {},
   "source": [
    "# 3. Dask"
   ]
  },
  {
   "cell_type": "code",
   "execution_count": 8,
   "metadata": {},
   "outputs": [],
   "source": [
    "dask_pilot_description1 = {\n",
    "    \"resource\":\"slurm://localhost\",\n",
    "    \"working_directory\": os.path.join('/work/01131/tg804093/wrangler/', \"work\"),\n",
    "    \"number_cores\": 48,\n",
    "    \"project\": \"TG-MCB090174\",\n",
    "    \"queue\": \"normal\",\n",
    "    \"walltime\": 59,\n",
    "    \"type\":\"dask\"\n",
    "}"
   ]
  },
  {
   "cell_type": "code",
   "execution_count": 9,
   "metadata": {},
   "outputs": [
    {
     "name": "stdout",
     "output_type": "stream",
     "text": [
      "**** Job: 59348 State : Pending\n",
      "CPU times: user 85.1 ms, sys: 40.1 ms, total: 125 ms\n",
      "Wall time: 5.44 s\n"
     ]
    }
   ],
   "source": [
    "%%time\n",
    "dask_pilot1 = pilot.streaming.PilotComputeService.create_pilot(dask_pilot_description1)\n",
    "dask_pilot1.wait()"
   ]
  },
  {
   "cell_type": "code",
   "execution_count": 10,
   "metadata": {},
   "outputs": [
    {
     "data": {
      "text/plain": [
       "{'master_url': 'tcp://c251-133:8786', 'web_ui_url': 'http://c251-133:8787'}"
      ]
     },
     "execution_count": 10,
     "metadata": {},
     "output_type": "execute_result"
    }
   ],
   "source": [
    "dask_pilot1.get_details()"
   ]
  },
  {
   "cell_type": "markdown",
   "metadata": {},
   "source": [
    "## Extension"
   ]
  },
  {
   "cell_type": "code",
   "execution_count": 11,
   "metadata": {},
   "outputs": [],
   "source": [
    "dask_pilot1_jobid = dask_pilot1.get_id()\n",
    "dask_pilot_description2 = {\n",
    "    \"resource\":\"slurm://localhost\",\n",
    "    \"working_directory\": os.path.join('/work/01131/tg804093/wrangler/', \"work\"),\n",
    "    \"number_cores\": 48,\n",
    "    \"project\": \"TG-MCB090174\",\n",
    "    \"queue\": \"normal\",\n",
    "    \"walltime\": 59,\n",
    "    \"type\":\"dask\",\n",
    "    \"parent\": dask_pilot1_jobid\n",
    "}"
   ]
  },
  {
   "cell_type": "code",
   "execution_count": 12,
   "metadata": {},
   "outputs": [
    {
     "name": "stdout",
     "output_type": "stream",
     "text": [
      "**** Job: 59349 State : Pending\n"
     ]
    }
   ],
   "source": [
    "dask_pilot2 = pilot.streaming.PilotComputeService.create_pilot(dask_pilot_description2)\n",
    "dask_pilot2.wait()"
   ]
  },
  {
   "cell_type": "code",
   "execution_count": 13,
   "metadata": {},
   "outputs": [
    {
     "data": {
      "text/plain": [
       "{'master_url': 'tcp://c251-133:8786', 'web_ui_url': 'http://c251-133:8787'}"
      ]
     },
     "execution_count": 13,
     "metadata": {},
     "output_type": "execute_result"
    }
   ],
   "source": [
    "dask_pilot2.get_details()"
   ]
  },
  {
   "cell_type": "markdown",
   "metadata": {},
   "source": [
    "Testing new Cluster"
   ]
  },
  {
   "cell_type": "code",
   "execution_count": 15,
   "metadata": {},
   "outputs": [
    {
     "data": {
      "text/plain": [
       "{'address': 'tcp://129.114.58.133:8786',\n",
       " 'id': 'Scheduler-f0aee3d5-0b61-4404-bcee-18c364474eac',\n",
       " 'services': {'bokeh': 8787},\n",
       " 'type': 'Scheduler',\n",
       " 'workers': {'tcp://129.114.58.132:50776': {'cpu': 10.0,\n",
       "   'executing': 0,\n",
       "   'host': '129.114.58.132',\n",
       "   'in_flight': 0,\n",
       "   'in_memory': 0,\n",
       "   'last-seen': 1515120541.188664,\n",
       "   'local_directory': '/home/01131/tg804093/dask-worker-space/worker-C4tWH_',\n",
       "   'memory': 102072320,\n",
       "   'memory_limit': 134778585088,\n",
       "   'name': 'tcp://129.114.58.132:50776',\n",
       "   'ncores': 48,\n",
       "   'num_fds': 23,\n",
       "   'pid': 123991,\n",
       "   'read_bytes': 558.2869765094172,\n",
       "   'ready': 0,\n",
       "   'services': {'bokeh': 8789, 'nanny': 35130},\n",
       "   'time': 1515120604.501052,\n",
       "   'time-delay': -63.81193709373474,\n",
       "   'write_bytes': 1200.6171537836929},\n",
       "  'tcp://129.114.58.133:39759': {'cpu': 12.0,\n",
       "   'executing': 0,\n",
       "   'host': '129.114.58.133',\n",
       "   'in_flight': 0,\n",
       "   'in_memory': 0,\n",
       "   'last-seen': 1515120541.299997,\n",
       "   'local_directory': '/home/01131/tg804093/dask-worker-space/worker-EPUxx_',\n",
       "   'memory': 101916672,\n",
       "   'memory_limit': 134778585088,\n",
       "   'name': 'tcp://129.114.58.133:39759',\n",
       "   'ncores': 48,\n",
       "   'num_fds': 23,\n",
       "   'pid': 76493,\n",
       "   'read_bytes': 36525.67201257382,\n",
       "   'ready': 0,\n",
       "   'services': {'bokeh': 8789, 'nanny': 55616},\n",
       "   'time': 1515120540.800018,\n",
       "   'time-delay': 0.0003790855407714844,\n",
       "   'write_bytes': 35883.642622800726}}}"
      ]
     },
     "execution_count": 15,
     "metadata": {},
     "output_type": "execute_result"
    }
   ],
   "source": [
    "import distributed\n",
    "dask_client  = distributed.Client(dask_pilot1.get_details()['master_url'])\n",
    "dask_client.scheduler_info()"
   ]
  },
  {
   "cell_type": "code",
   "execution_count": 16,
   "metadata": {},
   "outputs": [
    {
     "data": {
      "text/plain": [
       "[0, 1, 4, 9, 16, 25, 36, 49, 64, 81]"
      ]
     },
     "execution_count": 16,
     "metadata": {},
     "output_type": "execute_result"
    }
   ],
   "source": [
    "dask_client.gather(dask_client.map(lambda a: a*a, range(10)))"
   ]
  },
  {
   "cell_type": "markdown",
   "metadata": {},
   "source": [
    "Cancel Pilots"
   ]
  },
  {
   "cell_type": "code",
   "execution_count": null,
   "metadata": {},
   "outputs": [
    {
     "name": "stderr",
     "output_type": "stream",
     "text": [
      "tornado.application - ERROR - Exception in callback <functools.partial object at 0x2abcd579a158>\n",
      "Traceback (most recent call last):\n",
      "  File \"/home/01131/tg804093/anaconda2/lib/python2.7/site-packages/tornado/ioloop.py\", line 605, in _run_callback\n",
      "    ret = callback()\n",
      "  File \"/home/01131/tg804093/anaconda2/lib/python2.7/site-packages/tornado/stack_context.py\", line 277, in null_wrapper\n",
      "    return fn(*args, **kwargs)\n",
      "  File \"/home/01131/tg804093/anaconda2/lib/python2.7/site-packages/tornado/ioloop.py\", line 626, in _discard_future_result\n",
      "    future.result()\n",
      "  File \"/home/01131/tg804093/anaconda2/lib/python2.7/site-packages/tornado/concurrent.py\", line 238, in result\n",
      "    raise_exc_info(self._exc_info)\n",
      "  File \"/home/01131/tg804093/anaconda2/lib/python2.7/site-packages/tornado/gen.py\", line 1063, in run\n",
      "    yielded = self.gen.throw(*exc_info)\n",
      "  File \"/home/01131/tg804093/anaconda2/lib/python2.7/site-packages/distributed/client.py\", line 804, in _update_scheduler_info\n",
      "    self._scheduler_identity = yield self.scheduler.identity()\n",
      "  File \"/home/01131/tg804093/anaconda2/lib/python2.7/site-packages/tornado/gen.py\", line 1055, in run\n",
      "    value = future.result()\n",
      "  File \"/home/01131/tg804093/anaconda2/lib/python2.7/site-packages/tornado/concurrent.py\", line 238, in result\n",
      "    raise_exc_info(self._exc_info)\n",
      "  File \"/home/01131/tg804093/anaconda2/lib/python2.7/site-packages/tornado/gen.py\", line 1063, in run\n",
      "    yielded = self.gen.throw(*exc_info)\n",
      "  File \"/home/01131/tg804093/anaconda2/lib/python2.7/site-packages/distributed/core.py\", line 463, in send_recv_from_rpc\n",
      "    comm = yield self.live_comm()\n",
      "  File \"/home/01131/tg804093/anaconda2/lib/python2.7/site-packages/tornado/gen.py\", line 1055, in run\n",
      "    value = future.result()\n",
      "  File \"/home/01131/tg804093/anaconda2/lib/python2.7/site-packages/tornado/concurrent.py\", line 238, in result\n",
      "    raise_exc_info(self._exc_info)\n",
      "  File \"/home/01131/tg804093/anaconda2/lib/python2.7/site-packages/tornado/gen.py\", line 1063, in run\n",
      "    yielded = self.gen.throw(*exc_info)\n",
      "  File \"/home/01131/tg804093/anaconda2/lib/python2.7/site-packages/distributed/core.py\", line 439, in live_comm\n",
      "    connection_args=self.connection_args)\n",
      "  File \"/home/01131/tg804093/anaconda2/lib/python2.7/site-packages/tornado/gen.py\", line 1055, in run\n",
      "    value = future.result()\n",
      "  File \"/home/01131/tg804093/anaconda2/lib/python2.7/site-packages/tornado/concurrent.py\", line 238, in result\n",
      "    raise_exc_info(self._exc_info)\n",
      "  File \"/home/01131/tg804093/anaconda2/lib/python2.7/site-packages/tornado/gen.py\", line 1063, in run\n",
      "    yielded = self.gen.throw(*exc_info)\n",
      "  File \"/home/01131/tg804093/anaconda2/lib/python2.7/site-packages/distributed/comm/core.py\", line 194, in connect\n",
      "    _raise(error)\n",
      "  File \"/home/01131/tg804093/anaconda2/lib/python2.7/site-packages/distributed/comm/core.py\", line 177, in _raise\n",
      "    raise IOError(msg)\n",
      "IOError: Timed out trying to connect to 'tcp://c251-133:8786' after 5 s: in <distributed.comm.tcp.TCPConnector object at 0x2abcdd64ec90>: error: [Errno 111] Connection refused\n",
      "tornado.application - ERROR - Exception in callback <functools.partial object at 0x2abcdd6e6208>\n",
      "Traceback (most recent call last):\n",
      "  File \"/home/01131/tg804093/anaconda2/lib/python2.7/site-packages/tornado/ioloop.py\", line 605, in _run_callback\n",
      "    ret = callback()\n",
      "  File \"/home/01131/tg804093/anaconda2/lib/python2.7/site-packages/tornado/stack_context.py\", line 277, in null_wrapper\n",
      "    return fn(*args, **kwargs)\n",
      "  File \"/home/01131/tg804093/anaconda2/lib/python2.7/site-packages/tornado/ioloop.py\", line 626, in _discard_future_result\n",
      "    future.result()\n",
      "  File \"/home/01131/tg804093/anaconda2/lib/python2.7/site-packages/tornado/concurrent.py\", line 238, in result\n",
      "    raise_exc_info(self._exc_info)\n",
      "  File \"/home/01131/tg804093/anaconda2/lib/python2.7/site-packages/tornado/gen.py\", line 1063, in run\n",
      "    yielded = self.gen.throw(*exc_info)\n",
      "  File \"/home/01131/tg804093/anaconda2/lib/python2.7/site-packages/distributed/client.py\", line 804, in _update_scheduler_info\n",
      "    self._scheduler_identity = yield self.scheduler.identity()\n",
      "  File \"/home/01131/tg804093/anaconda2/lib/python2.7/site-packages/tornado/gen.py\", line 1055, in run\n",
      "    value = future.result()\n",
      "  File \"/home/01131/tg804093/anaconda2/lib/python2.7/site-packages/tornado/concurrent.py\", line 238, in result\n",
      "    raise_exc_info(self._exc_info)\n",
      "  File \"/home/01131/tg804093/anaconda2/lib/python2.7/site-packages/tornado/gen.py\", line 1063, in run\n",
      "    yielded = self.gen.throw(*exc_info)\n",
      "  File \"/home/01131/tg804093/anaconda2/lib/python2.7/site-packages/distributed/core.py\", line 463, in send_recv_from_rpc\n",
      "    comm = yield self.live_comm()\n",
      "  File \"/home/01131/tg804093/anaconda2/lib/python2.7/site-packages/tornado/gen.py\", line 1055, in run\n",
      "    value = future.result()\n",
      "  File \"/home/01131/tg804093/anaconda2/lib/python2.7/site-packages/tornado/concurrent.py\", line 238, in result\n",
      "    raise_exc_info(self._exc_info)\n",
      "  File \"/home/01131/tg804093/anaconda2/lib/python2.7/site-packages/tornado/gen.py\", line 1063, in run\n",
      "    yielded = self.gen.throw(*exc_info)\n",
      "  File \"/home/01131/tg804093/anaconda2/lib/python2.7/site-packages/distributed/core.py\", line 439, in live_comm\n",
      "    connection_args=self.connection_args)\n",
      "  File \"/home/01131/tg804093/anaconda2/lib/python2.7/site-packages/tornado/gen.py\", line 1055, in run\n",
      "    value = future.result()\n",
      "  File \"/home/01131/tg804093/anaconda2/lib/python2.7/site-packages/tornado/concurrent.py\", line 238, in result\n",
      "    raise_exc_info(self._exc_info)\n",
      "  File \"/home/01131/tg804093/anaconda2/lib/python2.7/site-packages/tornado/gen.py\", line 1063, in run\n",
      "    yielded = self.gen.throw(*exc_info)\n",
      "  File \"/home/01131/tg804093/anaconda2/lib/python2.7/site-packages/distributed/comm/core.py\", line 194, in connect\n",
      "    _raise(error)\n",
      "  File \"/home/01131/tg804093/anaconda2/lib/python2.7/site-packages/distributed/comm/core.py\", line 177, in _raise\n",
      "    raise IOError(msg)\n",
      "IOError: Timed out trying to connect to 'tcp://c251-133:8786' after 5 s: in <distributed.comm.tcp.TCPConnector object at 0x2abcdd7032d0>: error: [Errno 111] Connection refused\n",
      "tornado.application - ERROR - Exception in callback <functools.partial object at 0x2abcdd6e6d60>\n",
      "Traceback (most recent call last):\n",
      "  File \"/home/01131/tg804093/anaconda2/lib/python2.7/site-packages/tornado/ioloop.py\", line 605, in _run_callback\n",
      "    ret = callback()\n",
      "  File \"/home/01131/tg804093/anaconda2/lib/python2.7/site-packages/tornado/stack_context.py\", line 277, in null_wrapper\n",
      "    return fn(*args, **kwargs)\n",
      "  File \"/home/01131/tg804093/anaconda2/lib/python2.7/site-packages/tornado/ioloop.py\", line 626, in _discard_future_result\n",
      "    future.result()\n",
      "  File \"/home/01131/tg804093/anaconda2/lib/python2.7/site-packages/tornado/concurrent.py\", line 238, in result\n",
      "    raise_exc_info(self._exc_info)\n",
      "  File \"/home/01131/tg804093/anaconda2/lib/python2.7/site-packages/tornado/gen.py\", line 1063, in run\n",
      "    yielded = self.gen.throw(*exc_info)\n",
      "  File \"/home/01131/tg804093/anaconda2/lib/python2.7/site-packages/distributed/client.py\", line 804, in _update_scheduler_info\n",
      "    self._scheduler_identity = yield self.scheduler.identity()\n",
      "  File \"/home/01131/tg804093/anaconda2/lib/python2.7/site-packages/tornado/gen.py\", line 1055, in run\n",
      "    value = future.result()\n",
      "  File \"/home/01131/tg804093/anaconda2/lib/python2.7/site-packages/tornado/concurrent.py\", line 238, in result\n",
      "    raise_exc_info(self._exc_info)\n",
      "  File \"/home/01131/tg804093/anaconda2/lib/python2.7/site-packages/tornado/gen.py\", line 1063, in run\n",
      "    yielded = self.gen.throw(*exc_info)\n",
      "  File \"/home/01131/tg804093/anaconda2/lib/python2.7/site-packages/distributed/core.py\", line 463, in send_recv_from_rpc\n",
      "    comm = yield self.live_comm()\n",
      "  File \"/home/01131/tg804093/anaconda2/lib/python2.7/site-packages/tornado/gen.py\", line 1055, in run\n",
      "    value = future.result()\n",
      "  File \"/home/01131/tg804093/anaconda2/lib/python2.7/site-packages/tornado/concurrent.py\", line 238, in result\n",
      "    raise_exc_info(self._exc_info)\n",
      "  File \"/home/01131/tg804093/anaconda2/lib/python2.7/site-packages/tornado/gen.py\", line 1063, in run\n",
      "    yielded = self.gen.throw(*exc_info)\n",
      "  File \"/home/01131/tg804093/anaconda2/lib/python2.7/site-packages/distributed/core.py\", line 439, in live_comm\n",
      "    connection_args=self.connection_args)\n",
      "  File \"/home/01131/tg804093/anaconda2/lib/python2.7/site-packages/tornado/gen.py\", line 1055, in run\n",
      "    value = future.result()\n",
      "  File \"/home/01131/tg804093/anaconda2/lib/python2.7/site-packages/tornado/concurrent.py\", line 238, in result\n",
      "    raise_exc_info(self._exc_info)\n",
      "  File \"/home/01131/tg804093/anaconda2/lib/python2.7/site-packages/tornado/gen.py\", line 1063, in run\n",
      "    yielded = self.gen.throw(*exc_info)\n",
      "  File \"/home/01131/tg804093/anaconda2/lib/python2.7/site-packages/distributed/comm/core.py\", line 194, in connect\n",
      "    _raise(error)\n",
      "  File \"/home/01131/tg804093/anaconda2/lib/python2.7/site-packages/distributed/comm/core.py\", line 177, in _raise\n",
      "    raise IOError(msg)\n",
      "IOError: Timed out trying to connect to 'tcp://c251-133:8786' after 5 s: in <distributed.comm.tcp.TCPConnector object at 0x2abcdd71ef90>: error: [Errno 111] Connection refused\n"
     ]
    }
   ],
   "source": [
    "dask_pilot1.cancel()\n",
    "dask_pilot2.cancel()"
   ]
  },
  {
   "cell_type": "code",
   "execution_count": null,
   "metadata": {},
   "outputs": [],
   "source": []
  }
 ],
 "metadata": {
  "kernelspec": {
   "display_name": "Python 3",
   "language": "python",
   "name": "python3"
  },
  "language_info": {
   "codemirror_mode": {
    "name": "ipython",
    "version": 3
   },
   "file_extension": ".py",
   "mimetype": "text/x-python",
   "name": "python",
   "nbconvert_exporter": "python",
   "pygments_lexer": "ipython3",
   "version": "3.6.5"
  },
  "toc": {
   "toc_cell": false,
   "toc_number_sections": true,
   "toc_threshold": 6,
   "toc_window_display": false
  }
 },
 "nbformat": 4,
 "nbformat_minor": 2
}
